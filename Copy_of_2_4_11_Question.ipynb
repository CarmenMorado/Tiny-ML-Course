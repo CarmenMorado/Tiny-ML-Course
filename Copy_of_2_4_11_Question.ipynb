{
  "nbformat": 4,
  "nbformat_minor": 0,
  "metadata": {
    "accelerator": "GPU",
    "colab": {
      "name": "Copy of 2-4-11-Question.ipynb",
      "provenance": [],
      "include_colab_link": true
    },
    "kernelspec": {
      "display_name": "Python 3",
      "language": "python",
      "name": "python3"
    },
    "language_info": {
      "codemirror_mode": {
        "name": "ipython",
        "version": 3
      },
      "file_extension": ".py",
      "mimetype": "text/x-python",
      "name": "python",
      "nbconvert_exporter": "python",
      "pygments_lexer": "ipython3",
      "version": "3.6.9"
    }
  },
  "cells": [
    {
      "cell_type": "markdown",
      "metadata": {
        "id": "view-in-github",
        "colab_type": "text"
      },
      "source": [
        "<a href=\"https://colab.research.google.com/github/CarmenMorado/Tiny-ML-Course/blob/main/Copy_of_2_4_11_Question.ipynb\" target=\"_parent\"><img src=\"https://colab.research.google.com/assets/colab-badge.svg\" alt=\"Open In Colab\"/></a>"
      ]
    },
    {
      "cell_type": "markdown",
      "metadata": {
        "id": "ktqTCGHJw-ws"
      },
      "source": [
        "# Bean Disease Classifier\n",
        "For this assignment you'll take what you've learned so far and build a classifier for bean disease. You'll be provided with training and validation data based on 224x224 pixel color images taken of bean plants in Uganda. These images show healthy bean leaves as well as 2 types of common disease: bean rust and angular leaf spots. Your job will be to build a neural network that can tell the difference between the healthy and diseased leaves.\n",
        "\n",
        "We start by setting up the problem for you."
      ]
    },
    {
      "cell_type": "code",
      "metadata": {
        "id": "wmnkg6vGbX1t"
      },
      "source": [
        "# Do not change this code\n",
        "try:\n",
        "  # %tensorflow_version only exists in Colab.\n",
        "  %tensorflow_version 2.x\n",
        "except Exception:\n",
        "  pass"
      ],
      "execution_count": null,
      "outputs": []
    },
    {
      "cell_type": "code",
      "metadata": {
        "id": "njf4YhwFb6hW",
        "colab": {
          "base_uri": "https://localhost:8080/"
        },
        "outputId": "e1136f06-4398-4a75-ae2b-3cb1984f472a"
      },
      "source": [
        "# Do not change this code\n",
        "!wget --no-check-certificate \\\n",
        "    https://storage.googleapis.com/ibeans/train.zip \\\n",
        "    -O /tmp/train.zip\n",
        "\n",
        "!wget --no-check-certificate \\\n",
        "    https://storage.googleapis.com/ibeans/validation.zip \\\n",
        "    -O /tmp/validation.zip\n",
        "\n",
        "!wget --no-check-certificate \\\n",
        "    https://storage.googleapis.com/ibeans/test.zip \\\n",
        "    -O /tmp/test.zip"
      ],
      "execution_count": null,
      "outputs": [
        {
          "output_type": "stream",
          "text": [
            "--2021-02-22 23:31:48--  https://storage.googleapis.com/ibeans/train.zip\n",
            "Resolving storage.googleapis.com (storage.googleapis.com)... 74.125.142.128, 74.125.195.128, 2607:f8b0:400e:c03::80, ...\n",
            "Connecting to storage.googleapis.com (storage.googleapis.com)|74.125.142.128|:443... connected.\n",
            "HTTP request sent, awaiting response... 200 OK\n",
            "Length: 143812152 (137M) [application/zip]\n",
            "Saving to: ‘/tmp/train.zip’\n",
            "\n",
            "/tmp/train.zip      100%[===================>] 137.15M  71.9MB/s    in 1.9s    \n",
            "\n",
            "2021-02-22 23:31:50 (71.9 MB/s) - ‘/tmp/train.zip’ saved [143812152/143812152]\n",
            "\n",
            "--2021-02-22 23:31:50--  https://storage.googleapis.com/ibeans/validation.zip\n",
            "Resolving storage.googleapis.com (storage.googleapis.com)... 74.125.20.128, 74.125.142.128, 74.125.195.128, ...\n",
            "Connecting to storage.googleapis.com (storage.googleapis.com)|74.125.20.128|:443... connected.\n",
            "HTTP request sent, awaiting response... 200 OK\n",
            "Length: 18504213 (18M) [application/zip]\n",
            "Saving to: ‘/tmp/validation.zip’\n",
            "\n",
            "/tmp/validation.zip 100%[===================>]  17.65M  39.9MB/s    in 0.4s    \n",
            "\n",
            "2021-02-22 23:31:51 (39.9 MB/s) - ‘/tmp/validation.zip’ saved [18504213/18504213]\n",
            "\n",
            "--2021-02-22 23:31:51--  https://storage.googleapis.com/ibeans/test.zip\n",
            "Resolving storage.googleapis.com (storage.googleapis.com)... 74.125.20.128, 74.125.142.128, 74.125.195.128, ...\n",
            "Connecting to storage.googleapis.com (storage.googleapis.com)|74.125.20.128|:443... connected.\n",
            "HTTP request sent, awaiting response... 200 OK\n",
            "Length: 17708541 (17M) [application/zip]\n",
            "Saving to: ‘/tmp/test.zip’\n",
            "\n",
            "/tmp/test.zip       100%[===================>]  16.89M  53.4MB/s    in 0.3s    \n",
            "\n",
            "2021-02-22 23:31:52 (53.4 MB/s) - ‘/tmp/test.zip’ saved [17708541/17708541]\n",
            "\n"
          ],
          "name": "stdout"
        }
      ]
    },
    {
      "cell_type": "code",
      "metadata": {
        "id": "KscpTrSWcK1T"
      },
      "source": [
        "# Do not change this code\n",
        "import os\n",
        "import zipfile\n",
        "\n",
        "local_zip = '/tmp/train.zip'\n",
        "zip_ref = zipfile.ZipFile(local_zip, 'r')\n",
        "zip_ref.extractall('/tmp')\n",
        "local_zip = '/tmp/validation.zip'\n",
        "zip_ref = zipfile.ZipFile(local_zip, 'r')\n",
        "zip_ref.extractall('/tmp')\n",
        "local_zip = '/tmp/test.zip'\n",
        "zip_ref = zipfile.ZipFile(local_zip, 'r')\n",
        "zip_ref.extractall('/tmp/test')\n",
        "zip_ref.close()"
      ],
      "execution_count": null,
      "outputs": []
    },
    {
      "cell_type": "markdown",
      "metadata": {
        "id": "EO4YsF4_Y93a"
      },
      "source": [
        "Now you need to define a generator to process the data we have loaded in Colab so that our model can use it for training. As we showed in the previous video you'll first have to define an ```ImageDataGenerator``` and then flow the data into it.\n",
        "\n",
        "*A hint: You don't want abnormal data!*"
      ]
    },
    {
      "cell_type": "code",
      "metadata": {
        "id": "jCiSd248caB4",
        "colab": {
          "base_uri": "https://localhost:8080/"
        },
        "outputId": "7ccd8995-40c1-4279-dd07-c13c8e37d4b7"
      },
      "source": [
        "from tensorflow.keras.preprocessing.image import ImageDataGenerator\n",
        "\n",
        "train_datagen = ImageDataGenerator(\n",
        "      rescale=1./255,\n",
        "      rotation_range=40,\n",
        "      width_shift_range=0.2,\n",
        "      height_shift_range=0.2,\n",
        "      shear_range=0.2,\n",
        "      zoom_range=0.2,\n",
        "      horizontal_flip=True,\n",
        "      fill_mode='nearest'\n",
        ")\n",
        "\n",
        "validation_datagen = ImageDataGenerator(\n",
        "      rescale=1./255\n",
        ")\n",
        "\n",
        "TRAIN_DIRECTORY_LOCATION = '/tmp/train'\n",
        "VAL_DIRECTORY_LOCATION = '/tmp/validation'\n",
        "TARGET_SIZE = (224, 224)\n",
        "CLASS_MODE = 'categorical'\n",
        "\n",
        "train_generator = train_datagen.flow_from_directory(\n",
        "    TRAIN_DIRECTORY_LOCATION,\n",
        "    target_size = TARGET_SIZE,  \n",
        "    batch_size = 128,\n",
        "    class_mode = CLASS_MODE\n",
        ")\n",
        "\n",
        "validation_generator = validation_datagen.flow_from_directory(\n",
        "    VAL_DIRECTORY_LOCATION,\n",
        "    target_size = TARGET_SIZE,  \n",
        "    batch_size = 128,\n",
        "    class_mode = CLASS_MODE\n",
        ")"
      ],
      "execution_count": null,
      "outputs": [
        {
          "output_type": "stream",
          "text": [
            "Found 1034 images belonging to 3 classes.\n",
            "Found 133 images belonging to 3 classes.\n"
          ],
          "name": "stdout"
        }
      ]
    },
    {
      "cell_type": "markdown",
      "metadata": {
        "id": "bnvVh8h5Y93b"
      },
      "source": [
        "Now its your turn to define a model to learn this data. \n",
        "\n",
        "*A hint: Like with the CIFAR-10 assignment, your model may want to learn some high level features and then classify them. This time it may help to make the model a little wider at times.*"
      ]
    },
    {
      "cell_type": "code",
      "metadata": {
        "id": "vrJt6YSDcqjX",
        "colab": {
          "base_uri": "https://localhost:8080/"
        },
        "outputId": "3e61bf5c-0f0f-43dc-8d12-7af9f02e45d9"
      },
      "source": [
        "import tensorflow as tf\n",
        "model = tf.keras.models.Sequential([\n",
        "                                    \n",
        "   # Find the features with Convolutions and Pooling\n",
        "\n",
        "   tf.keras.layers.Conv2D(16, (3,3), activation='relu', input_shape=(224, 224, 3)),\n",
        "\n",
        "   tf.keras.layers.MaxPooling2D(2, 2),\n",
        "\n",
        "   tf.keras.layers.Conv2D(32, (3,3), activation='relu'),\n",
        "\n",
        "   tf.keras.layers.MaxPooling2D(2,2),\n",
        "\n",
        "   tf.keras.layers.Conv2D(64, (3,3), activation='relu'),\n",
        "\n",
        "   tf.keras.layers.MaxPooling2D(2,2),\n",
        "\n",
        "   tf.keras.layers.Conv2D(128, (3,3), activation='relu'),\n",
        "\n",
        "   tf.keras.layers.MaxPooling2D(2,2),\n",
        "\n",
        "   # Flatten the results to feed into a DNN\n",
        "\n",
        "   tf.keras.layers.Flatten(),\n",
        "\n",
        "   # 512 neuron hidden layer\n",
        "\n",
        "   tf.keras.layers.Dense(512, activation='relu'),\n",
        "\n",
        "   tf.keras.layers.Dense(3, activation='softmax')\n",
        "])\n",
        "\n",
        "# This will print a summary of your model when you're done!\n",
        "model.summary()"
      ],
      "execution_count": null,
      "outputs": [
        {
          "output_type": "stream",
          "text": [
            "Model: \"sequential\"\n",
            "_________________________________________________________________\n",
            "Layer (type)                 Output Shape              Param #   \n",
            "=================================================================\n",
            "conv2d (Conv2D)              (None, 222, 222, 16)      448       \n",
            "_________________________________________________________________\n",
            "max_pooling2d (MaxPooling2D) (None, 111, 111, 16)      0         \n",
            "_________________________________________________________________\n",
            "conv2d_1 (Conv2D)            (None, 109, 109, 32)      4640      \n",
            "_________________________________________________________________\n",
            "max_pooling2d_1 (MaxPooling2 (None, 54, 54, 32)        0         \n",
            "_________________________________________________________________\n",
            "conv2d_2 (Conv2D)            (None, 52, 52, 64)        18496     \n",
            "_________________________________________________________________\n",
            "max_pooling2d_2 (MaxPooling2 (None, 26, 26, 64)        0         \n",
            "_________________________________________________________________\n",
            "conv2d_3 (Conv2D)            (None, 24, 24, 128)       73856     \n",
            "_________________________________________________________________\n",
            "max_pooling2d_3 (MaxPooling2 (None, 12, 12, 128)       0         \n",
            "_________________________________________________________________\n",
            "flatten (Flatten)            (None, 18432)             0         \n",
            "_________________________________________________________________\n",
            "dense (Dense)                (None, 512)               9437696   \n",
            "_________________________________________________________________\n",
            "dense_1 (Dense)              (None, 3)                 1539      \n",
            "=================================================================\n",
            "Total params: 9,536,675\n",
            "Trainable params: 9,536,675\n",
            "Non-trainable params: 0\n",
            "_________________________________________________________________\n"
          ],
          "name": "stdout"
        }
      ]
    },
    {
      "cell_type": "markdown",
      "metadata": {
        "id": "95pmIaAgY93b"
      },
      "source": [
        "Then you'll need to pick an appropriate loss function and optimizer.\n",
        "\n",
        "*A hint: remember we are classifying again.*"
      ]
    },
    {
      "cell_type": "code",
      "metadata": {
        "id": "nST6CyvCcy-2"
      },
      "source": [
        "LOSS_FUNCTION = 'categorical_crossentropy'\n",
        "OPTIMIZER = 'adam'\n",
        "\n",
        "model.compile(\n",
        "    loss = LOSS_FUNCTION,\n",
        "    optimizer = OPTIMIZER,\n",
        "    metrics = ['accuracy']\n",
        ")"
      ],
      "execution_count": null,
      "outputs": []
    },
    {
      "cell_type": "markdown",
      "metadata": {
        "id": "hMGSYIPAY93c"
      },
      "source": [
        "Finally select the number of epochs you'd like to train for and train your model!\n",
        "\n",
        "*A hint: something in the low tens is a good place to start*"
      ]
    },
    {
      "cell_type": "code",
      "metadata": {
        "id": "Q3iK9LX9deu2",
        "colab": {
          "base_uri": "https://localhost:8080/",
          "height": 975
        },
        "outputId": "a5ebd736-ecb7-4241-8f2a-52caa2374d71"
      },
      "source": [
        "NUM_EPOCHS = 20\n",
        "\n",
        "history = model.fit(\n",
        "      train_generator, \n",
        "      epochs = NUM_EPOCHS,\n",
        "      verbose = 1,\n",
        "      validation_data = validation_generator)\n",
        "\n",
        "# summarize history for accuracy\n",
        "import matplotlib.pyplot as plt\n",
        "plt.plot(history.history['accuracy'])\n",
        "plt.plot(history.history['val_accuracy'])\n",
        "plt.title('model accuracy')\n",
        "plt.ylabel('accuracy')\n",
        "plt.xlabel('epoch')\n",
        "plt.legend(['train', 'test'], loc='upper left')\n",
        "plt.xlim([0,NUM_EPOCHS])\n",
        "plt.ylim([0.4,1.0])\n",
        "plt.show()"
      ],
      "execution_count": null,
      "outputs": [
        {
          "output_type": "stream",
          "text": [
            "Epoch 1/20\n",
            "9/9 [==============================] - 21s 2s/step - loss: 1.3933 - accuracy: 0.3292 - val_loss: 1.0669 - val_accuracy: 0.3459\n",
            "Epoch 2/20\n",
            "9/9 [==============================] - 15s 2s/step - loss: 1.0580 - accuracy: 0.3709 - val_loss: 0.9927 - val_accuracy: 0.5414\n",
            "Epoch 3/20\n",
            "9/9 [==============================] - 15s 2s/step - loss: 1.0341 - accuracy: 0.4796 - val_loss: 1.0074 - val_accuracy: 0.4286\n",
            "Epoch 4/20\n",
            "9/9 [==============================] - 15s 2s/step - loss: 0.9529 - accuracy: 0.5138 - val_loss: 0.9534 - val_accuracy: 0.5038\n",
            "Epoch 5/20\n",
            "9/9 [==============================] - 15s 2s/step - loss: 0.9327 - accuracy: 0.5301 - val_loss: 1.0360 - val_accuracy: 0.4887\n",
            "Epoch 6/20\n",
            "9/9 [==============================] - 15s 2s/step - loss: 0.8657 - accuracy: 0.6126 - val_loss: 0.9698 - val_accuracy: 0.5338\n",
            "Epoch 7/20\n",
            "9/9 [==============================] - 15s 2s/step - loss: 0.8472 - accuracy: 0.6321 - val_loss: 0.7448 - val_accuracy: 0.7218\n",
            "Epoch 8/20\n",
            "9/9 [==============================] - 15s 2s/step - loss: 0.8106 - accuracy: 0.6379 - val_loss: 0.7859 - val_accuracy: 0.6692\n",
            "Epoch 9/20\n",
            "9/9 [==============================] - 15s 2s/step - loss: 0.8620 - accuracy: 0.5761 - val_loss: 0.7395 - val_accuracy: 0.6692\n",
            "Epoch 10/20\n",
            "9/9 [==============================] - 15s 2s/step - loss: 0.8164 - accuracy: 0.6450 - val_loss: 0.6349 - val_accuracy: 0.7068\n",
            "Epoch 11/20\n",
            "9/9 [==============================] - 15s 2s/step - loss: 0.7668 - accuracy: 0.6713 - val_loss: 0.7246 - val_accuracy: 0.6842\n",
            "Epoch 12/20\n",
            "9/9 [==============================] - 15s 2s/step - loss: 0.7819 - accuracy: 0.6446 - val_loss: 0.8895 - val_accuracy: 0.5564\n",
            "Epoch 13/20\n",
            "9/9 [==============================] - 15s 2s/step - loss: 0.7236 - accuracy: 0.6735 - val_loss: 0.9643 - val_accuracy: 0.5714\n",
            "Epoch 14/20\n",
            "9/9 [==============================] - 15s 2s/step - loss: 0.6975 - accuracy: 0.7026 - val_loss: 1.0228 - val_accuracy: 0.5414\n",
            "Epoch 15/20\n",
            "9/9 [==============================] - 15s 2s/step - loss: 0.7019 - accuracy: 0.6852 - val_loss: 0.9870 - val_accuracy: 0.5714\n",
            "Epoch 16/20\n",
            "9/9 [==============================] - 15s 2s/step - loss: 0.6854 - accuracy: 0.7003 - val_loss: 1.0697 - val_accuracy: 0.5564\n",
            "Epoch 17/20\n",
            "9/9 [==============================] - 15s 2s/step - loss: 0.6652 - accuracy: 0.7323 - val_loss: 0.9048 - val_accuracy: 0.6241\n",
            "Epoch 18/20\n",
            "9/9 [==============================] - 15s 2s/step - loss: 0.5993 - accuracy: 0.7410 - val_loss: 0.7489 - val_accuracy: 0.6466\n",
            "Epoch 19/20\n",
            "9/9 [==============================] - 15s 2s/step - loss: 0.5945 - accuracy: 0.7568 - val_loss: 0.5059 - val_accuracy: 0.7669\n",
            "Epoch 20/20\n",
            "9/9 [==============================] - 15s 2s/step - loss: 0.6740 - accuracy: 0.7037 - val_loss: 0.7644 - val_accuracy: 0.6767\n"
          ],
          "name": "stdout"
        },
        {
          "output_type": "display_data",
          "data": {
            "image/png": "[encoded data removed]",
            "text/plain": [
              "<Figure size 432x288 with 1 Axes>"
            ]
          },
          "metadata": {
            "tags": [],
            "needs_background": "light"
          }
        }
      ]
    }
  ]
}